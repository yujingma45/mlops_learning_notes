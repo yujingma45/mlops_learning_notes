{
 "cells": [
  {
   "attachments": {},
   "cell_type": "markdown",
   "metadata": {},
   "source": [
    "#  Use `MlflowClient` to do model Tracking and Registry\n",
    "\n",
    "The `MlflowClient` object allows us to interact with...\n",
    "- an MLflow Tracking Server that creates and manages experiments and runs.\n",
    "- an MLflow Registry Server that creates and manages registered models and model versions. \n",
    "\n",
    "The documentation is very clean, there are alot of functions that are not shown in the code. \n",
    "https://mlflow.org/docs/latest/python_api/mlflow.client.html\n",
    "\n",
    "Note: This learning note is adopt from [mlops-zoomcamp notebook](https://github.com/DataTalksClub/mlops-zoomcamp/blob/main/02-experiment-tracking/model-registry.ipynb). I updated the outdated queries with my own notes."
   ]
  },
  {
   "cell_type": "code",
   "execution_count": 26,
   "metadata": {},
   "outputs": [],
   "source": [
    "from mlflow.client import MlflowClient\n",
    "\n",
    "# Create client of MLflow Tracking Server and Registry Server.\n",
    "'''\n",
    "To instantiate it we need to pass a tracking URI and/or a registry URI\n",
    "Previously, we set model tracking url using \n",
    "mlflow.set_tracking_uri(\"sqlite:///mlflow.db\") \n",
    "So we set our mlflowclient to this url to get access to those models we stored in this url \n",
    "'''\n",
    "\n",
    "# use sqlite://// to indicate an absolute path\n",
    "MLFLOW_TRACKING_URI = \"sqlite:////Users/yujingma/Documents/Learning/MLOPS/mlops-zoomcamp/02-experiment-tracking/mlflow.db\"\n",
    "# os.path.join(folder_name, db_name)\n",
    "client = MlflowClient(tracking_uri = MLFLOW_TRACKING_URI)"
   ]
  },
  {
   "cell_type": "markdown",
   "metadata": {},
   "source": [
    "## Model Tracking\n",
    "Interactive with MLflow Tracking Server to manage experiments and runs.\n",
    "\n",
    "### Work with experiments - search, create, rename, delete and restore "
   ]
  },
  {
   "cell_type": "code",
   "execution_count": 27,
   "metadata": {},
   "outputs": [
    {
     "name": "stdout",
     "output_type": "stream",
     "text": [
      "[<Experiment: artifact_location='/Users/yujingma/Documents/Learning/MLOPS/mlops-zoomcamp/02-experiment-tracking/mlruns/1', creation_time=1685479041988, experiment_id='1', last_update_time=1685479041988, lifecycle_stage='active', name='nyc-taxi-experiment', tags={}>, <Experiment: artifact_location='/Users/yujingma/Documents/Learning/MLOPS/mlops-zoomcamp/02-experiment-tracking/mlruns/0', creation_time=1685479041960, experiment_id='0', last_update_time=1685479041960, lifecycle_stage='active', name='Default', tags={}>]\n"
     ]
    }
   ],
   "source": [
    "\n",
    "# a. get all the available experiments\n",
    "print(client.search_experiments())\n",
    "# b. create a new experiment\n",
    "# client.create_experiment(name=\"my-cool-experiment\") # will output experiment_id of the new experiment\n",
    "# c. delete an experiment \n",
    "# client.delete_experiment(experiment_id = '2') "
   ]
  },
  {
   "attachments": {},
   "cell_type": "markdown",
   "metadata": {},
   "source": [
    "### Work with runs within specific experiment"
   ]
  },
  {
   "cell_type": "code",
   "execution_count": 74,
   "metadata": {},
   "outputs": [],
   "source": [
    "\n",
    "from mlflow.entities import ViewType\n",
    "'''Use ViewType to define what types of runs\n",
    "we want to search. \n",
    "ACTIVE_ONLY, DELETED_ONLY, or ALL runs \n",
    "'''\n",
    "runs = client.search_runs(\n",
    "    experiment_ids= '1',\n",
    "    filter_string= \"\", # empty search query\n",
    "    run_view_type= ViewType.ACTIVE_ONLY, # only want to search for active runs\n",
    "    max_results= 5,\n",
    "    order_by=['metrics.rmse']   \n",
    ")\n",
    "\n",
    "# Or we can create filters \n",
    "runs = client.search_runs(\n",
    "    experiment_ids='1',\n",
    "    filter_string= 'metrics.rmse < 6.8',\n",
    "    run_view_type=ViewType.ACTIVE_ONLY,\n",
    "    max_results=5,\n",
    "    order_by = ['metrics.rmse ASC']\n",
    ")"
   ]
  },
  {
   "cell_type": "code",
   "execution_count": 75,
   "metadata": {},
   "outputs": [
    {
     "name": "stdout",
     "output_type": "stream",
     "text": [
      "run id = 30f8bee56de544a0945d74fb23f3183f,           lifecycle_stage: active,           rmse:6.3632\n",
      "run id = 9d5d2b92637449dabd4613e694aa85af,           lifecycle_stage: active,           rmse:6.4018\n",
      "run id = cffa3bba1f2f442495bbea6e0bc9fd47,           lifecycle_stage: active,           rmse:6.4097\n",
      "run id = 065d22868622429ea049621775a5cd01,           lifecycle_stage: active,           rmse:6.4161\n",
      "run id = 4504246f29f2471c9e30a8edb7048d29,           lifecycle_stage: active,           rmse:6.5331\n"
     ]
    }
   ],
   "source": [
    "for run in runs:\n",
    "    print(f\"run id = {run.info.run_id}, \\\n",
    "          lifecycle_stage: {run.info.lifecycle_stage}, \\\n",
    "          rmse:{run.data.metrics['rmse']:.4f}\")"
   ]
  },
  {
   "attachments": {},
   "cell_type": "markdown",
   "metadata": {},
   "source": [
    "## Model Registry\n",
    "\n",
    "Important Notes: **Model registry doesn't actually deploy the model to production when you transition a model to the \"Production\" stage**, it just assign a label to that model version. You should complement the registry with some CI/CD code that does the actual deployment.\n",
    "\n",
    "\n",
    "In this section We will use the `MlflowClient` instance to:"
   ]
  },
  {
   "cell_type": "code",
   "execution_count": 30,
   "metadata": {},
   "outputs": [],
   "source": [
    "import mlflow\n",
    "# We need to set tracking uri to make sure we are not looking at the local folder\n",
    "mlflow.set_tracking_uri(MLFLOW_TRACKING_URI)"
   ]
  },
  {
   "cell_type": "markdown",
   "metadata": {},
   "source": [
    "1. Register a new version for the experiment `nyc-taxi-regressor`"
   ]
  },
  {
   "cell_type": "code",
   "execution_count": 76,
   "metadata": {},
   "outputs": [
    {
     "name": "stderr",
     "output_type": "stream",
     "text": [
      "Registered model 'nyc-taxi-regressor' already exists. Creating a new version of this model...\n",
      "2023/06/07 13:09:58 INFO mlflow.tracking._model_registry.client: Waiting up to 300 seconds for model version to finish creation. Model name: nyc-taxi-regressor, version 8\n",
      "Created version '8' of model 'nyc-taxi-regressor'.\n"
     ]
    },
    {
     "data": {
      "text/plain": [
       "<ModelVersion: aliases=[], creation_timestamp=1686157798341, current_stage='None', description=None, last_updated_timestamp=1686157798341, name='nyc-taxi-regressor', run_id='903d9e0c85e142618086079f6f5e6294', run_link=None, source='/Users/yujingma/Documents/Learning/MLOPS/mlops-zoomcamp/02-experiment-tracking/mlruns/1/903d9e0c85e142618086079f6f5e6294/artifacts/model', status='READY', status_message=None, tags={}, user_id=None, version=8>"
      ]
     },
     "execution_count": 76,
     "metadata": {},
     "output_type": "execute_result"
    }
   ],
   "source": [
    "# register a specific run\n",
    "'''\n",
    "Since we already have Registered model 'nyc-taxi-regressor' registered. \n",
    "The code will make the run as a new version of this model...\n",
    "'''\n",
    "run_id = \"903d9e0c85e142618086079f6f5e6294\"\n",
    "model_uri = f\"runs:/{run_id}/model\"\n",
    "mlflow.register_model(model_uri=model_uri, name=\"nyc-taxi-regressor\")\n",
    "\n"
   ]
  },
  {
   "attachments": {},
   "cell_type": "markdown",
   "metadata": {},
   "source": [
    "\n",
    "2. Retrieve the latests versions of the model `nyc-taxi-regressor` and check that a new version was created.\n"
   ]
  },
  {
   "cell_type": "code",
   "execution_count": 72,
   "metadata": {},
   "outputs": [
    {
     "name": "stdout",
     "output_type": "stream",
     "text": [
      "version: 6, stage: None\n",
      "version: 4, stage: Staging\n",
      "version: 7, stage: Production\n"
     ]
    }
   ],
   "source": [
    "model_name = \"nyc-taxi-regressor\"\n",
    "latest_versions = client.get_latest_versions(name=model_name)\n",
    "\n",
    "for version in latest_versions:\n",
    "    print(f\"version: {version.version}, stage: {version.current_stage}\")"
   ]
  },
  {
   "attachments": {},
   "cell_type": "markdown",
   "metadata": {},
   "source": [
    "3. Update the model version stage to \"Staging\" "
   ]
  },
  {
   "cell_type": "code",
   "execution_count": 77,
   "metadata": {},
   "outputs": [
    {
     "data": {
      "text/plain": [
       "<ModelVersion: aliases=[], creation_timestamp=1686157798341, current_stage='Staging', description=None, last_updated_timestamp=1686157805429, name='nyc-taxi-regressor', run_id='903d9e0c85e142618086079f6f5e6294', run_link=None, source='/Users/yujingma/Documents/Learning/MLOPS/mlops-zoomcamp/02-experiment-tracking/mlruns/1/903d9e0c85e142618086079f6f5e6294/artifacts/model', status='READY', status_message=None, tags={}, user_id=None, version=8>"
      ]
     },
     "execution_count": 77,
     "metadata": {},
     "output_type": "execute_result"
    }
   ],
   "source": [
    "model_version = 8\n",
    "new_stage = \"Staging\"\n",
    "client.transition_model_version_stage(\n",
    "    name=model_name,\n",
    "    version=model_version,\n",
    "    stage=new_stage,\n",
    "    archive_existing_versions=False\n",
    ")"
   ]
  },
  {
   "attachments": {},
   "cell_type": "markdown",
   "metadata": {},
   "source": [
    "4. Add annotations (description) to the new model"
   ]
  },
  {
   "cell_type": "code",
   "execution_count": 34,
   "metadata": {},
   "outputs": [
    {
     "data": {
      "text/plain": [
       "<ModelVersion: aliases=[], creation_timestamp=1686149579432, current_stage='Staging', description='The model version 4 was transitioned to Staging on 2023-06-07', last_updated_timestamp=1686156002734, name='nyc-taxi-regressor', run_id='30f8bee56de544a0945d74fb23f3183f', run_link=None, source='/Users/yujingma/Documents/Learning/MLOPS/mlops-zoomcamp/02-experiment-tracking/mlruns/1/30f8bee56de544a0945d74fb23f3183f/artifacts/model', status='READY', status_message=None, tags={}, user_id=None, version=4>"
      ]
     },
     "execution_count": 34,
     "metadata": {},
     "output_type": "execute_result"
    }
   ],
   "source": [
    "from datetime import datetime\n",
    "\n",
    "date = datetime.today().date()\n",
    "client.update_model_version(\n",
    "    name=model_name,\n",
    "    version=model_version, # here we pass in the model_version instead of run_id\n",
    "    description=f\"The model version {model_version} was transitioned to {new_stage} on {date}\"\n",
    ")"
   ]
  },
  {
   "attachments": {},
   "cell_type": "markdown",
   "metadata": {},
   "source": [
    "## In practice - How do we compare versions and selecting the new \"Production\" model\n",
    "\n",
    "In the last section, we will retrieve models registered in the model registry and compare their performance on an unseen test set. The idea is to simulate the scenario in which a deployment engineer has to interact with the model registry to decide whether to update the model version that is in production or not."
   ]
  },
  {
   "cell_type": "markdown",
   "metadata": {},
   "source": [
    "### DS development code"
   ]
  },
  {
   "cell_type": "code",
   "execution_count": 35,
   "metadata": {},
   "outputs": [],
   "source": [
    "\n",
    "from sklearn.metrics import mean_squared_error\n",
    "import pandas as pd\n",
    "\n",
    "\n",
    "def read_dataframe(filename):\n",
    "    if filename.endswith('.csv'):\n",
    "        df = pd.read_csv(filename)\n",
    "\n",
    "        df.lpep_dropoff_datetime = pd.to_datetime(df.lpep_dropoff_datetime)\n",
    "        df.lpep_pickup_datetime = pd.to_datetime(df.lpep_pickup_datetime)\n",
    "    elif filename.endswith('.parquet'):\n",
    "        df = pd.read_parquet(filename)\n",
    "\n",
    "    df.lpep_dropoff_datetime = pd.to_datetime(df.lpep_dropoff_datetime)\n",
    "    df.lpep_pickup_datetime = pd.to_datetime(df.lpep_pickup_datetime)\n",
    "\n",
    "    df['duration'] = df.lpep_dropoff_datetime - df.lpep_pickup_datetime\n",
    "    df.duration = df.duration.apply(lambda td: td.total_seconds() / 60)\n",
    "\n",
    "    df = df[(df.duration >= 1) & (df.duration <= 60)]\n",
    "\n",
    "    categorical = ['PULocationID', 'DOLocationID']\n",
    "    df[categorical] = df[categorical].astype(str)\n",
    "    \n",
    "    return df\n",
    "\n",
    "\n",
    "def preprocess(df, dv):\n",
    "    df['PU_DO'] = df['PULocationID'] + '_' + df['DOLocationID']\n",
    "    categorical = ['PU_DO']\n",
    "    numerical = ['trip_distance']\n",
    "    train_dicts = df[categorical + numerical].to_dict(orient='records')\n",
    "    return dv.transform(train_dicts)\n",
    "\n",
    "\n",
    "def test_model(name, stage, X_test, y_test):\n",
    "    model = mlflow.pyfunc.load_model(f\"models:/{name}/{stage}\")\n",
    "    y_pred = model.predict(X_test)\n",
    "    return {\"rmse\": mean_squared_error(y_test, y_pred, squared=False)}"
   ]
  },
  {
   "attachments": {},
   "cell_type": "markdown",
   "metadata": {},
   "source": [
    "### Data engineer code\n",
    "These are the steps for ML engineering to select and register a model:\n",
    "\n",
    "1. Load the test dataset, which corresponds to the NYC Green Taxi data from the month of March 2021.\n",
    "2. Download the `DictVectorizer` that was fitted using the training data and saved to MLflow as an artifact, and load it with pickle.\n",
    "3. Preprocess the test set using the `DictVectorizer` so we can properly feed the regressors.\n",
    "4. Make predictions on the test set using the model versions that are currently in the \"Staging\" and \"Production\" stages, and compare their performance.\n",
    "5. Based on the results, update the \"Production\" model version accordingly.\n",
    "\n",
    "\n",
    "**Note: the model registry doesn't actually deploy the model to production when you transition a model to the \"Production\" stage, it just assign a label to that model version. You should complement the registry with some CI/CD code that does the actual deployment.**"
   ]
  },
  {
   "cell_type": "code",
   "execution_count": 51,
   "metadata": {},
   "outputs": [],
   "source": [
    "import os \n",
    "local_work_dir = '/Users/yujingma/Documents/Learning/MLOPS/mlops-zoomcamp/'"
   ]
  },
  {
   "cell_type": "code",
   "execution_count": 57,
   "metadata": {},
   "outputs": [],
   "source": [
    "# 1. Read new test data\n",
    "data_dir = os.path.join(local_work_dir,\"data/green_tripdata_2021-02.parquet\")\n",
    "df = read_dataframe(data_dir)"
   ]
  },
  {
   "cell_type": "code",
   "execution_count": 63,
   "metadata": {},
   "outputs": [
    {
     "name": "stderr",
     "output_type": "stream",
     "text": [
      "/var/folders/42/bww_9q494gl5n_05w7_k14km0000gn/T/ipykernel_34237/3510194676.py:3: FutureWarning: ``mlflow.tracking.client.MlflowClient.download_artifacts`` is deprecated since 2.0. This method will be removed in a future release. Use ``mlflow.artifacts.download_artifacts`` instead.\n",
      "  client.download_artifacts(run_id=run_id, path='preprocessor', dst_path='.')\n"
     ]
    },
    {
     "data": {
      "text/plain": [
       "'/Users/yujingma/Documents/Learning/MLOPS/mlops_learning_notes/MLflow/preprocessor'"
      ]
     },
     "execution_count": 63,
     "metadata": {},
     "output_type": "execute_result"
    }
   ],
   "source": [
    "# download the artifacts related to the select run\n",
    "run_id = \"ba1be893cbc143fea9e255836eaae500\"\n",
    "client.download_artifacts(run_id=run_id, path='preprocessor', dst_path='.')"
   ]
  },
  {
   "cell_type": "code",
   "execution_count": 64,
   "metadata": {},
   "outputs": [],
   "source": [
    "# Now load the downloaded pickle locally\n",
    "import pickle\n",
    "with open(\"preprocessor/preprocessor.b\", \"rb\") as f_in:\n",
    "    dv = pickle.load(f_in)"
   ]
  },
  {
   "cell_type": "code",
   "execution_count": 65,
   "metadata": {},
   "outputs": [],
   "source": [
    "X_test = preprocess(df, dv)"
   ]
  },
  {
   "cell_type": "code",
   "execution_count": 66,
   "metadata": {},
   "outputs": [],
   "source": [
    "target = \"duration\"\n",
    "y_test = df[target].values"
   ]
  },
  {
   "cell_type": "code",
   "execution_count": 70,
   "metadata": {},
   "outputs": [
    {
     "name": "stderr",
     "output_type": "stream",
     "text": [
      "2023/06/07 13:04:17 WARNING mlflow.pyfunc: Detected one or more mismatches between the model's dependencies and the current Python environment:\n",
      " - mlflow (current: 2.3.2, required: mlflow==2.3)\n",
      "To fix the mismatches, call `mlflow.pyfunc.get_model_dependencies(model_uri)` to fetch the model's environment and install dependencies using the resulting environment file.\n"
     ]
    },
    {
     "name": "stdout",
     "output_type": "stream",
     "text": [
      "[13:04:17] WARNING: /Users/runner/work/xgboost/xgboost/python-package/build/temp.macosx-10.9-x86_64-cpython-38/xgboost/src/objective/regression_obj.cu:213: reg:linear is now deprecated in favor of reg:squarederror.\n",
      "CPU times: user 20 s, sys: 464 ms, total: 20.5 s\n",
      "Wall time: 3.99 s\n"
     ]
    },
    {
     "data": {
      "text/plain": [
       "{'rmse': 6.302432605395757}"
      ]
     },
     "execution_count": 70,
     "metadata": {},
     "output_type": "execute_result"
    }
   ],
   "source": [
    "# compare the current production model performance with the staging ones\n",
    "%time test_model(name=model_name, stage=\"Production\", X_test=X_test, y_test=y_test)"
   ]
  },
  {
   "cell_type": "code",
   "execution_count": 78,
   "metadata": {},
   "outputs": [
    {
     "name": "stderr",
     "output_type": "stream",
     "text": [
      "2023/06/07 13:10:17 WARNING mlflow.pyfunc: Detected one or more mismatches between the model's dependencies and the current Python environment:\n",
      " - mlflow (current: 2.3.2, required: mlflow==2.3)\n",
      "To fix the mismatches, call `mlflow.pyfunc.get_model_dependencies(model_uri)` to fetch the model's environment and install dependencies using the resulting environment file.\n"
     ]
    },
    {
     "name": "stdout",
     "output_type": "stream",
     "text": [
      "[13:10:17] WARNING: /Users/runner/work/xgboost/xgboost/python-package/build/temp.macosx-10.9-x86_64-cpython-38/xgboost/src/objective/regression_obj.cu:213: reg:linear is now deprecated in favor of reg:squarederror.\n",
      "CPU times: user 20.8 s, sys: 230 ms, total: 21 s\n",
      "Wall time: 3.42 s\n"
     ]
    },
    {
     "data": {
      "text/plain": [
       "{'rmse': 6.302432605395757}"
      ]
     },
     "execution_count": 78,
     "metadata": {},
     "output_type": "execute_result"
    }
   ],
   "source": [
    "%time test_model(name=model_name, stage=\"Staging\", X_test=X_test, y_test=y_test)"
   ]
  },
  {
   "cell_type": "code",
   "execution_count": 79,
   "metadata": {},
   "outputs": [
    {
     "data": {
      "text/plain": [
       "<ModelVersion: aliases=[], creation_timestamp=1686157798341, current_stage='Production', description=None, last_updated_timestamp=1686157886386, name='nyc-taxi-regressor', run_id='903d9e0c85e142618086079f6f5e6294', run_link=None, source='/Users/yujingma/Documents/Learning/MLOPS/mlops-zoomcamp/02-experiment-tracking/mlruns/1/903d9e0c85e142618086079f6f5e6294/artifacts/model', status='READY', status_message=None, tags={}, user_id=None, version=8>"
      ]
     },
     "execution_count": 79,
     "metadata": {},
     "output_type": "execute_result"
    }
   ],
   "source": [
    "# We decide to use the new model as production\n",
    "client.transition_model_version_stage(\n",
    "    name=model_name,\n",
    "    version=8,\n",
    "    stage=\"Production\",\n",
    "    archive_existing_versions=True # and achieve the old one\n",
    ")"
   ]
  },
  {
   "cell_type": "code",
   "execution_count": null,
   "metadata": {},
   "outputs": [],
   "source": []
  }
 ],
 "metadata": {
  "interpreter": {
   "hash": "0848c9d6c7d415ad6c477ff7ff8e98694d1a4aa96d0deee89244642e6b630036"
  },
  "kernelspec": {
   "display_name": "Python 3.9.12 ('exp-tracking-env')",
   "language": "python",
   "name": "python3"
  },
  "language_info": {
   "codemirror_mode": {
    "name": "ipython",
    "version": 3
   },
   "file_extension": ".py",
   "mimetype": "text/x-python",
   "name": "python",
   "nbconvert_exporter": "python",
   "pygments_lexer": "ipython3",
   "version": "3.11.3"
  },
  "orig_nbformat": 4
 },
 "nbformat": 4,
 "nbformat_minor": 2
}
